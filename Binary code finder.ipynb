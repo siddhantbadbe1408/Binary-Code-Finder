{
 "cells": [
  {
   "cell_type": "markdown",
   "id": "d547e117",
   "metadata": {},
   "source": [
    "# Code to find out the binary code of any number given by user"
   ]
  },
  {
   "cell_type": "code",
   "execution_count": 7,
   "id": "25738aaa",
   "metadata": {},
   "outputs": [
    {
     "name": "stdout",
     "output_type": "stream",
     "text": [
      "Enter a number : 10\n",
      "The Binary code for 10 is 1010\n"
     ]
    }
   ],
   "source": [
    "# Generate a list of [512,256,128,64,32,16,8,4,2,1]\n",
    "b=1\n",
    "c=[1]\n",
    "while b<99999999:\n",
    "    b=b+b\n",
    "    c.append(b)\n",
    "\n",
    "    \n",
    "# Generate a list of [0,0,0,0,0,0,0,0] same numbers of element as the previous list\n",
    "c=c[::-1]\n",
    "d=[]\n",
    "for i in c:\n",
    "    d.append(0)    \n",
    "    \n",
    "# Taking input value\n",
    "a=int(input('Enter a number : '))\n",
    "q=a\n",
    "\n",
    "# to get the position of the 'one' by subtracting through the first list\n",
    "for i in c:\n",
    "    if a==0:\n",
    "        break\n",
    "    if a>=i:\n",
    "        d[c.index(i)]=1\n",
    "        a=a-i\n",
    "\n",
    "# removing extra zeroes from the front of the list\n",
    "k=0\n",
    "for i in c:\n",
    "    if q>=i:\n",
    "        k=c.index(i)\n",
    "        break\n",
    "        \n",
    "# Concatenating the list into a string\n",
    "r=d[k:]\n",
    "z=''.join(map(str,r))\n",
    "\n",
    "# Resetting to default values to use it again\n",
    "g=0\n",
    "h=0\n",
    "d=[]\n",
    "for i in c:\n",
    "    d.append(0)\n",
    "    \n",
    "# printing output\n",
    "print('The Binary code for {} is {}'.format(q,z))\n",
    "q=0\n",
    "z=''"
   ]
  },
  {
   "cell_type": "code",
   "execution_count": null,
   "id": "f72d3c22",
   "metadata": {},
   "outputs": [],
   "source": []
  }
 ],
 "metadata": {
  "kernelspec": {
   "display_name": "Python 3 (ipykernel)",
   "language": "python",
   "name": "python3"
  },
  "language_info": {
   "codemirror_mode": {
    "name": "ipython",
    "version": 3
   },
   "file_extension": ".py",
   "mimetype": "text/x-python",
   "name": "python",
   "nbconvert_exporter": "python",
   "pygments_lexer": "ipython3",
   "version": "3.7.8"
  }
 },
 "nbformat": 4,
 "nbformat_minor": 5
}
